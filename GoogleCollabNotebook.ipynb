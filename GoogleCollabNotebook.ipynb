{
  "nbformat": 4,
  "nbformat_minor": 0,
  "metadata": {
    "colab": {
      "provenance": [],
      "authorship_tag": "ABX9TyMP0MuqEfEqrdb54LU/wKNT",
      "include_colab_link": true
    },
    "kernelspec": {
      "name": "python3",
      "display_name": "Python 3"
    },
    "language_info": {
      "name": "python"
    }
  },
  "cells": [
    {
      "cell_type": "markdown",
      "metadata": {
        "id": "view-in-github",
        "colab_type": "text"
      },
      "source": [
        "<a href=\"https://colab.research.google.com/github/Infrabenji/cognitive-computing-frameworks/blob/main/GoogleCollabNotebook.ipynb\" target=\"_parent\"><img src=\"https://colab.research.google.com/assets/colab-badge.svg\" alt=\"Open In Colab\"/></a>"
      ]
    },
    {
      "cell_type": "code",
      "source": [
        "from google.colab import drive\n",
        "drive.mount('/content/drive')\n",
        "\n",
        "!git clone https://github.com/yourusername/cognitive-computing-frameworks.git\n",
        "\n",
        "%cd cognitive-computing-frameworks/Paper1_Active_Inference_Hebbian"
      ],
      "metadata": {
        "id": "spRUyjclgD6P"
      },
      "execution_count": null,
      "outputs": []
    },
    {
      "cell_type": "code",
      "execution_count": null,
      "metadata": {
        "id": "-1Z73Z7Be720"
      },
      "outputs": [],
      "source": [
        "# main.py for Paper1_Active_Inference_Hebbian\n",
        "\n",
        "import subprocess\n",
        "\n",
        "def run_all_figures():\n",
        "\n",
        "    subprocess.run([\"python\", \"Figure_10_14_15.py\"])\n",
        "\n",
        "    subprocess.run([\"python\", \"Figure_11.py\"])\n",
        "\n",
        "    subprocess.run([\"python\", \"Figure_12.py\"])\n",
        "\n",
        "    subprocess.run([\"python\", \"Figure_13.py\"])\n",
        "\n",
        "if __name__ == \"__main__\":\n",
        "    run_all_figures()"
      ]
    },
    {
      "cell_type": "code",
      "source": [
        "# Figure_10_14_15.py\n",
        "\n",
        "def generate_figure_10():\n",
        "    print(\"Figure 10 generated\")\n",
        "    # Save figure as Figure_10.png\n",
        "    pass\n",
        "\n",
        "def generate_figure_14():\n",
        "    print(\"Figure 14 generated\")\n",
        "    # Save figure as Figure_14.png\n",
        "    pass\n",
        "\n",
        "def generate_figure_15():\n",
        "    print(\"Figure 15 generated\")\n",
        "    # Save figure as Figure_15.png\n",
        "    pass\n",
        "\n",
        "if __name__ == \"__main__\":\n",
        "    generate_figure_10()\n",
        "    generate_figure_14()\n",
        "    generate_figure_15()"
      ],
      "metadata": {
        "id": "j7kmqgRKfVlZ"
      },
      "execution_count": null,
      "outputs": []
    },
    {
      "cell_type": "code",
      "source": [
        "# Figure_11.py\n",
        "\n",
        "def generate_figure_11():\n",
        "    print(\"Figure 11 generated\")\n",
        "    # Save figure as Figure_11.png\n",
        "    pass\n",
        "\n",
        "if __name__ == \"__main__\":\n",
        "    generate_figure_11()"
      ],
      "metadata": {
        "id": "J6keV9D7fX2C"
      },
      "execution_count": null,
      "outputs": []
    },
    {
      "cell_type": "code",
      "source": [
        "# Figure_12.py\n",
        "\n",
        "def generate_figure_12():\n",
        "    print(\"Figure 12 generated\")\n",
        "    # Save figure as Figure_12.png\n",
        "    pass\n",
        "\n",
        "if __name__ == \"__main__\":\n",
        "    generate_figure_12()"
      ],
      "metadata": {
        "id": "dRQCHK1nfssr"
      },
      "execution_count": null,
      "outputs": []
    },
    {
      "cell_type": "code",
      "source": [
        "# Figure_13.py\n",
        "\n",
        "def generate_figure_13():\n",
        "    print(\"Figure 13 generated\")\n",
        "    # Save figure as Figure_13.png\n",
        "    pass\n",
        "\n",
        "if __name__ == \"__main__\":\n",
        "    generate_figure_13()"
      ],
      "metadata": {
        "id": "N34w-w_Kfz-R"
      },
      "execution_count": null,
      "outputs": []
    }
  ]
}